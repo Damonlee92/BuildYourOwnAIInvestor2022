{
 "cells": [
  {
   "cell_type": "markdown",
   "metadata": {},
   "source": [
    "# Exercise 3 - Logic and Loops"
   ]
  },
  {
   "cell_type": "code",
   "execution_count": null,
   "metadata": {},
   "outputs": [],
   "source": []
  },
  {
   "cell_type": "markdown",
   "metadata": {},
   "source": [
    "## Custom Functions\n",
    "### You can make your own functions."
   ]
  },
  {
   "cell_type": "code",
   "execution_count": null,
   "metadata": {},
   "outputs": [],
   "source": [
    "# Here is a simple fuction. All it does is say hello.\n",
    "def sayHello():\n",
    "    print(\"Hello!\")"
   ]
  },
  {
   "cell_type": "code",
   "execution_count": null,
   "metadata": {},
   "outputs": [],
   "source": [
    "#let's call the function\n",
    "sayHello()"
   ]
  },
  {
   "cell_type": "markdown",
   "metadata": {},
   "source": [
    "### You can pass arguments into functions"
   ]
  },
  {
   "cell_type": "code",
   "execution_count": null,
   "metadata": {},
   "outputs": [],
   "source": [
    "# You can pass values to functions (called arguments)\n",
    "def functionWithArg(arg_1):\n",
    "    print(arg_1)"
   ]
  },
  {
   "cell_type": "code",
   "execution_count": null,
   "metadata": {},
   "outputs": [],
   "source": [
    "functionWithArg('Print stuff.')\n",
    "functionWithArg('ABC 123 XYZ. This is a single string BTW.')"
   ]
  },
  {
   "cell_type": "code",
   "execution_count": null,
   "metadata": {},
   "outputs": [],
   "source": [
    "# You can pass many arguments into your function, \n",
    "# here 3 arguments are used.\n",
    "def addThree(first, second, third):\n",
    "    answer = first + second + third\n",
    "    print('The sum result is:', answer)\n",
    "    \n",
    "    return answer"
   ]
  },
  {
   "cell_type": "code",
   "execution_count": null,
   "metadata": {},
   "outputs": [],
   "source": [
    "mySum = addThree(9,200,12)"
   ]
  },
  {
   "cell_type": "code",
   "execution_count": null,
   "metadata": {},
   "outputs": [],
   "source": [
    "print(mySum)"
   ]
  },
  {
   "cell_type": "code",
   "execution_count": null,
   "metadata": {},
   "outputs": [],
   "source": [
    "def multiplyThree(first, second, third):\n",
    "    '''\n",
    "    It is good practice to put code comments here\n",
    "    To explain what the function does, for anyone who\n",
    "    may use it in future.\n",
    "    \n",
    "    This function multiplies three input arguments together,\n",
    "    and prints the result. The result is returned too.\n",
    "    '''\n",
    "    answer = first * second * third\n",
    "    print('The multiplicative result is:', answer)\n",
    "    \n",
    "    return answer\n",
    "\n",
    "myMultAns = multiplyThree(4,3,2)"
   ]
  },
  {
   "cell_type": "markdown",
   "metadata": {},
   "source": [
    "### You can pass many varied arguments at once"
   ]
  },
  {
   "cell_type": "code",
   "execution_count": null,
   "metadata": {},
   "outputs": [],
   "source": [
    "# You can also pass many different kinds of objects\n",
    "# as arguments to functions\n",
    "# Here we pass a list and a number into an argument.\n",
    "\n",
    "def retFirstNStocks(stockList, n):\n",
    "    return stockList[:n] # returns all items up to index n\n",
    "\n",
    "# Making a list to pass into the function.\n",
    "friends_stock_list = ['F', 'AMD', 'GAW', 'TM17', 'DISH', 'INTC']\n",
    "\n",
    "# Now we assign a new variable to what the function returns.\n",
    "reduced_list = retFirstNStocks(friends_stock_list, 3) \n",
    "\n",
    "#lets see what the returned variable is:\n",
    "print('The object our function returned to us is:', reduced_list)\n",
    "print('\\n This object is a:', type(reduced_list))"
   ]
  },
  {
   "cell_type": "markdown",
   "metadata": {},
   "source": [
    "### Functions can return a list of several things at once"
   ]
  },
  {
   "cell_type": "code",
   "execution_count": null,
   "metadata": {},
   "outputs": [],
   "source": [
    "# A function can return many things in the 'return' line with a list.\n",
    "def getDataFromList(stockList):\n",
    "    '''\n",
    "    This returns a list of:\n",
    "    First 3 items in list\n",
    "    first item\n",
    "    last item\n",
    "    number of items\n",
    "    '''\n",
    "    size = len(friends_stock_list)\n",
    "    \n",
    "    # remember, indexing starts at 0\n",
    "    print('The first item is:', stockList[0])\n",
    "    print('The last item is:', stockList[size-1]) \n",
    "    print('The number of items is:', size)\n",
    "    \n",
    "    return [stockList[:3], stockList[0], stockList[size-1], size] \n"
   ]
  },
  {
   "cell_type": "code",
   "execution_count": null,
   "metadata": {},
   "outputs": [],
   "source": [
    "# here we get all the results from the function in the variable 'list_results'\n",
    "list_results = getDataFromList(friends_stock_list)\n",
    "\n",
    "#Taking a look at this variable, there are a few kinds of objects there all in one list:\n",
    "print('\\n',list_results)"
   ]
  },
  {
   "cell_type": "markdown",
   "metadata": {},
   "source": [
    "### Arguments can be optional"
   ]
  },
  {
   "cell_type": "code",
   "execution_count": null,
   "metadata": {},
   "outputs": [],
   "source": [
    "# Making the argument optional\n",
    "def printMyNumber(num='I would like to have an argument please.'):\n",
    "    print('My number is:', num)\n",
    "    \n",
    "    \n",
    "printMyNumber(3.141) # With an argument\n",
    "printMyNumber() # Without an argument, reverting to your default"
   ]
  },
  {
   "cell_type": "markdown",
   "metadata": {},
   "source": [
    "# Logic and Loops"
   ]
  },
  {
   "cell_type": "markdown",
   "metadata": {},
   "source": [
    "### Basic FOR loops"
   ]
  },
  {
   "cell_type": "code",
   "execution_count": null,
   "metadata": {},
   "outputs": [],
   "source": [
    "friends_stock_list = ['F', 'AMD', 'GAW', 'TM17', 'DISH', 'INTC']\n",
    "\n",
    "#Here is a loop over friends_stock_list\n",
    "for item in friends_stock_list:\n",
    "    print(item)"
   ]
  },
  {
   "cell_type": "code",
   "execution_count": null,
   "metadata": {},
   "outputs": [],
   "source": [
    "#Here is a loop over a range beginning at 0 and ending at 3\n",
    "for i in range(0,4):\n",
    "    print(i, 'spam')"
   ]
  },
  {
   "cell_type": "code",
   "execution_count": null,
   "metadata": {},
   "outputs": [],
   "source": [
    "cube_numbers = [x**3 for x in range(10)]\n",
    "print(cube_numbers)"
   ]
  },
  {
   "cell_type": "markdown",
   "metadata": {},
   "source": [
    "### Boolean types and some logic"
   ]
  },
  {
   "cell_type": "code",
   "execution_count": null,
   "metadata": {},
   "outputs": [],
   "source": [
    "# Boolean\n",
    "num = 99 # here we have a variable\n",
    "\n",
    "num == 4 # the == operator will return a boolean here, which is either True of False."
   ]
  },
  {
   "cell_type": "code",
   "execution_count": null,
   "metadata": {},
   "outputs": [],
   "source": [
    "#lets see what it returns when we ask if it is 99.\n",
    "num == 99"
   ]
  },
  {
   "cell_type": "code",
   "execution_count": null,
   "metadata": {},
   "outputs": [],
   "source": [
    "# Greater than and les than operators are also available to us.\n",
    "\n",
    "print('Is num greater than 100?', (num > 100) ) # (num>100) returns a bool.\n",
    "\n",
    "print('Is num Less than 100?', (num < 100) ) # (num<100) returns a bool."
   ]
  },
  {
   "cell_type": "code",
   "execution_count": null,
   "metadata": {},
   "outputs": [],
   "source": [
    "num2 = 100 # create a second number\n",
    "\n",
    "bool1 = (num < 100)\n",
    "print('boolean 1 is:',bool1)\n",
    "\n",
    "bool2 = (num2 < 100)\n",
    "print('boolean 2 is:',bool2)\n",
    "\n",
    "bool3 = bool1 | bool2\n",
    "print('\\nboolean 3 (which is bool1 or bool2 being True) is:\\n',bool3)"
   ]
  },
  {
   "cell_type": "markdown",
   "metadata": {},
   "source": [
    "### Table of Operators\n",
    "| Basic Operators | Description |\n",
    "| :-: | :-: |\n",
    "| < | Less than |\n",
    "| <= | Less than or equal to |\n",
    "| >\t| Greater than |\n",
    "| >= | Greater than or equal to |\n",
    "| == | Equal to |\n",
    "| != | Not equal to |\n",
    "| &\t| And |\n",
    "| \\|\t| Or |\n"
   ]
  },
  {
   "cell_type": "markdown",
   "metadata": {},
   "source": [
    "### Some logic in a FOR loop"
   ]
  },
  {
   "cell_type": "code",
   "execution_count": null,
   "metadata": {},
   "outputs": [],
   "source": [
    "for i in [0,1,2,3,4,5,6,7,8,9,12,17,200]:\n",
    "    boolIsGreaterThanSix = (i >= 6)\n",
    "    print(i, boolIsGreaterThanSix)"
   ]
  },
  {
   "cell_type": "code",
   "execution_count": null,
   "metadata": {
    "scrolled": false
   },
   "outputs": [],
   "source": [
    "#Here is a loop over a range, where a logic IF statement is present \n",
    "# to only print unmbers that are a multiple of 3\n",
    "for i in range(0, 30):\n",
    "    \n",
    "    # The % is the modulo function, \n",
    "    # it returns the remainder of a division.\n",
    "    my_rem = (i % 3)\n",
    "    \n",
    "    if (my_rem == 0): \n",
    "        print(i)"
   ]
  },
  {
   "cell_type": "code",
   "execution_count": null,
   "metadata": {},
   "outputs": [],
   "source": [
    "#Multiple of 3 greater than 20\n",
    "for i in range(0,40):\n",
    "    \n",
    "    # Firstly a Boolean,\n",
    "    # is True if i is greater than 20.\n",
    "    greaterThan20 = (i > 20) \n",
    "    \n",
    "    # Secondly a Number, \n",
    "    # is the remainder of division.\n",
    "    myRemainder = (i % 3) \n",
    "    \n",
    "    # Thirdly another Bool,\n",
    "    # is True if i is multiple of 3.\n",
    "    multOf3 = (myRemainder == 0)\n",
    "    \n",
    "    # If a multiple of 3 AND greater than 20.\n",
    "    if (multOf3 & greaterThan20): \n",
    "        print(i)"
   ]
  },
  {
   "cell_type": "code",
   "execution_count": null,
   "metadata": {},
   "outputs": [],
   "source": [
    "def mult3AndGr20(number):\n",
    "    '''\n",
    "    Returns True if a multiple of 3 greater than 20.\n",
    "    Otherwise returns False.\n",
    "    '''\n",
    "    # Firstly a Boolean,\n",
    "    # is True if i is greater than 20.\n",
    "    greaterThan20 = (i > 20) \n",
    "    \n",
    "    # Secondly a Number, \n",
    "    # is the remainder of division.\n",
    "    myRemainder = (i % 3) \n",
    "    \n",
    "    # Thirdly another Bool,\n",
    "    # is True if i is multiple of 3.\n",
    "    multOf3 = (myRemainder == 0)\n",
    "    \n",
    "    # If a multiple of 3 AND greater than 20.\n",
    "    if (multOf3 & greaterThan20): \n",
    "        return True\n",
    "    else:\n",
    "        return False\n",
    "    \n",
    "\n",
    "#Multiple of 3 greater than 20\n",
    "for i in range(0,40):\n",
    "    if(mult3AndGr20(i)):\n",
    "        print(i)"
   ]
  },
  {
   "cell_type": "markdown",
   "metadata": {},
   "source": [
    "# Exercise 3"
   ]
  },
  {
   "cell_type": "code",
   "execution_count": null,
   "metadata": {},
   "outputs": [],
   "source": [
    "# Output stocks with a price/earnings ratio below a number and a beta above a number. \n",
    "# return a list of aceptable stocks with ascending by P/E\n",
    "# Try and separate out these steps and work on one at a time, life is easier that way\n",
    "\n",
    "# Toby has come and messed up the code! Try and get it working again by fixing the code missing where \"?\" appears\n",
    "# Answers are in the answer notebook."
   ]
  },
  {
   "cell_type": "code",
   "execution_count": null,
   "metadata": {},
   "outputs": [],
   "source": [
    "# Given data.\n",
    "Stocks = ['JKHY', 'FSTR', 'ETV', 'WAFD', 'RSG', 'HTGC']\n",
    "PriceEarningsRatios = [48.54, 3.29, 5.71, 9.18, 23.89, 14.02]\n",
    "Beta = [0.59, 1.67, 0.89, 0.99, 0.62, 1.51]"
   ]
  },
  {
   "cell_type": "code",
   "execution_count": null,
   "metadata": {},
   "outputs": [],
   "source": [
    "# Fix this function\n",
    "def filterStocks(maxBeta, maxPE):\n",
    "    '''\n",
    "    This function reads global list variables:\n",
    "    Stocks\n",
    "    PriceEarningsRatios\n",
    "    Beta\n",
    "    \n",
    "    and returns a list of stocks that are below the maxBeta and maxPE values\n",
    "    '''\n",
    "    \n",
    "    filteredStocks = ? # Create an empty list to be appended to.\n",
    "    \n",
    "    for i, stock in enumerate(Stocks): # This counts i as 1, 2, 3, ... down the list of stocks\n",
    "        PriceEarningsBool = (PriceEarningsRatios[i] < ?) # returns True if our current PE is less than maxPE\n",
    "        \n",
    "        ? = (Beta[i] < maxBeta) # returns True if our current beta is less than maxbeta\n",
    "        \n",
    "        if (? & BetaBool):\n",
    "            filteredStocks.?(Stocks[i]) # with each loop, if conditions are met, append to the list.\n",
    "    return ? # Return the filtered Stocks"
   ]
  },
  {
   "cell_type": "code",
   "execution_count": null,
   "metadata": {},
   "outputs": [],
   "source": [
    "# Try using this function\n",
    "maxBeta = 1.2 # Can try a bunch of numbers\n",
    "maxPE = 20 # Can try a bunch of numbers\n",
    "\n",
    "filteredStocks = filterStocks(maxBeta, maxPE)\n",
    "print('Accepted filtered stocks are:', ?)"
   ]
  },
  {
   "cell_type": "code",
   "execution_count": null,
   "metadata": {},
   "outputs": [],
   "source": []
  }
 ],
 "metadata": {
  "kernelspec": {
   "display_name": "Python 3 (ipykernel)",
   "language": "python",
   "name": "python3"
  },
  "language_info": {
   "codemirror_mode": {
    "name": "ipython",
    "version": 3
   },
   "file_extension": ".py",
   "mimetype": "text/x-python",
   "name": "python",
   "nbconvert_exporter": "python",
   "pygments_lexer": "ipython3",
   "version": "3.9.12"
  }
 },
 "nbformat": 4,
 "nbformat_minor": 4
}
