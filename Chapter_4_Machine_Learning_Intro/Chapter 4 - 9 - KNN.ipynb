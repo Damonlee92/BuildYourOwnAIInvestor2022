{
 "cells": [
  {
   "cell_type": "code",
   "execution_count": 1,
   "metadata": {},
   "outputs": [],
   "source": [
    "import pandas as pd\n"
   ]
  },
  {
   "cell_type": "markdown",
   "metadata": {},
   "source": [
    "# K-Nearest Neighbours Example, 2 Features\n",
    "https://scikit-learn.org/stable/modules/generated/sklearn.neighbors.KNeighborsRegressor.html"
   ]
  },
  {
   "cell_type": "code",
   "execution_count": 2,
   "metadata": {},
   "outputs": [
    {
     "name": "stdout",
     "output_type": "stream",
     "text": [
      "K-Nearest Neighbours prediction value is: [2.75]\n"
     ]
    }
   ],
   "source": [
    "# hand-make example data from worked example\n",
    "X = pd.DataFrame([[1,8],\n",
    "                  [9,5],\n",
    "                  [5,7],\n",
    "                  [7,3],\n",
    "                  [3,6],\n",
    "                  [1,2],\n",
    "                  [4,5]], columns=['X1','X2'])\n",
    "y = pd.DataFrame([9,8,2,6,2,4,1], columns=['y'])\n",
    "\n",
    "# Make KNN regressor\n",
    "from sklearn.neighbors import KNeighborsRegressor\n",
    "KNN = KNeighborsRegressor(n_neighbors=4).fit(X, y)\n",
    "\n",
    "# See prediction\n",
    "print('K-Nearest Neighbours prediction value is:', \n",
    "      KNN.predict([[5,4]]).ravel())"
   ]
  },
  {
   "cell_type": "code",
   "execution_count": 3,
   "metadata": {},
   "outputs": [
    {
     "name": "stdout",
     "output_type": "stream",
     "text": [
      "   X1  X2\n",
      "0   1   8\n",
      "1   9   5\n",
      "2   5   7\n",
      "3   7   3\n",
      "4   3   6\n",
      "5   1   2\n",
      "6   4   5\n",
      "\n",
      "\n",
      "   y\n",
      "0  9\n",
      "1  8\n",
      "2  2\n",
      "3  6\n",
      "4  2\n",
      "5  4\n",
      "6  1\n",
      "\n",
      "\n"
     ]
    }
   ],
   "source": [
    "# hand-make example data from worked example\n",
    "X = pd.DataFrame([[1,8],\n",
    "                  [9,5],\n",
    "                  [5,7],\n",
    "                  [7,3],\n",
    "                  [3,6],\n",
    "                  [1,2],\n",
    "                  [4,5]], columns=['X1','X2'])\n",
    "y = pd.DataFrame([9,8,2,6,2,4,1], columns=['y'])\n",
    "print(X)\n",
    "print('\\n')\n",
    "print(y)\n",
    "print('\\n')"
   ]
  },
  {
   "cell_type": "code",
   "execution_count": 4,
   "metadata": {},
   "outputs": [
    {
     "name": "stdout",
     "output_type": "stream",
     "text": [
      "K-Nearest Neighbours prediction value is: 2.75\n"
     ]
    }
   ],
   "source": [
    "from sklearn.neighbors import KNeighborsRegressor\n",
    "KNN = KNeighborsRegressor(n_neighbors=4).fit(X, y)\n",
    "print('K-Nearest Neighbours prediction value is:', KNN.predict([[5,4]])[0][0]) # Answer is list of list, so to get number[0][0]"
   ]
  },
  {
   "cell_type": "markdown",
   "metadata": {},
   "source": [
    "| Row Number | y | X1 | X2 |\n",
    "| :- | :-: | :-: | :-: |\n",
    "| 0 | 9 | 1 | 8 |\n",
    "| 0 | 8 | 9 | 5 |\n",
    "| 0 | 2 | 5 | 7 |\n",
    "| 0 | 6 | 7 | 3 |\n",
    "| 0 | 2 | 3 | 6 |\n",
    "| 0 | 4 | 1 | 2 |\n",
    "| 0 | 1 | 4 | 5 |\n",
    "\n",
    "\n",
    "\n",
    "\n",
    "| Row Number | y | X1 | X2 | \n",
    "| :- | :-: | :-: | :-: |\n",
    "| 0 | 9 | 1 | 8 |\n",
    "| 0 | 8 | 9 | 5 |\n",
    "| 0 | 2 | 5 | 7 |\n",
    "| 0 | 6 | 7 | 3 |\n",
    "| 0 | 2 | 3 | 6 |\n",
    "| 0 | 4 | 1 | 2 |\n",
    "| 0 | 1 | 4 | 5 |\n",
    "\n",
    "\n",
    "\n",
    "\n",
    "\n"
   ]
  },
  {
   "cell_type": "markdown",
   "metadata": {},
   "source": [
    "## Try the Manhattan Distance Instead of Euclidian\n",
    "The p value changes the distance. Ways to calculate distance have been generalised in Minkowski distance.\n",
    "https://en.wikipedia.org/wiki/Minkowski_distance\n",
    "p=1 is the Manhattan distance, p=2 is Euclidian distance"
   ]
  },
  {
   "cell_type": "code",
   "execution_count": 5,
   "metadata": {},
   "outputs": [
    {
     "name": "stdout",
     "output_type": "stream",
     "text": [
      "K-Nearest Neighbours prediction value when p=1 is: 1.5\n",
      "K-Nearest Neighbours prediction value when p=2 is: 3.5\n"
     ]
    }
   ],
   "source": [
    "KNN1 = KNeighborsRegressor(n_neighbors=2, p=1).fit(X, y) # Manhattan Distance\n",
    "KNN2 = KNeighborsRegressor(n_neighbors=2, p=2).fit(X, y) # Euclidian Distance\n",
    "print('K-Nearest Neighbours prediction value when p=1 is:', KNN1.predict([[5,4]])[0][0])\n",
    "print('K-Nearest Neighbours prediction value when p=2 is:', KNN2.predict([[5,4]])[0][0])"
   ]
  },
  {
   "cell_type": "code",
   "execution_count": null,
   "metadata": {},
   "outputs": [],
   "source": []
  }
 ],
 "metadata": {
  "kernelspec": {
   "display_name": "Python 3 (ipykernel)",
   "language": "python",
   "name": "python3"
  },
  "language_info": {
   "codemirror_mode": {
    "name": "ipython",
    "version": 3
   },
   "file_extension": ".py",
   "mimetype": "text/x-python",
   "name": "python",
   "nbconvert_exporter": "python",
   "pygments_lexer": "ipython3",
   "version": "3.9.12"
  }
 },
 "nbformat": 4,
 "nbformat_minor": 4
}
