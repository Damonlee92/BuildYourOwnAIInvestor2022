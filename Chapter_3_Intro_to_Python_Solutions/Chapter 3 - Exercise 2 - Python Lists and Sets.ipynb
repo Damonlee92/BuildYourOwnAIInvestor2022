{
 "cells": [
  {
   "cell_type": "markdown",
   "metadata": {},
   "source": [
    "# Exercise 2 - Python Lists and Sets\n",
    "Chapter 2 intro to Python functions. Here Numpy is imported for me to use the exponential and logarithmic functions.\n",
    "## Lists\n",
    "Read through and execute these cells and see what the code does"
   ]
  },
  {
   "cell_type": "code",
   "execution_count": 18,
   "metadata": {},
   "outputs": [],
   "source": []
  },
  {
   "cell_type": "markdown",
   "metadata": {},
   "source": [
    "# Exercise 2\n",
    "## Lists\n",
    "Some manipulation and accessing variables"
   ]
  },
  {
   "cell_type": "code",
   "execution_count": 19,
   "metadata": {},
   "outputs": [],
   "source": [
    "# Here's a list of lists.\n",
    "listOfBestLists = ['NYT best-sellers list', 'Santas list', 'Bucket list', 'Lloyds list', 'Listerine']\n",
    "# One of these lists is not in fact a list. Either remove it or substitute it with your own list."
   ]
  },
  {
   "cell_type": "code",
   "execution_count": 20,
   "metadata": {},
   "outputs": [
    {
     "name": "stdout",
     "output_type": "stream",
     "text": [
      "Listerine\n"
     ]
    }
   ],
   "source": [
    "# Print out the last item in the list:\n",
    "print(listOfBestLists[-1])"
   ]
  },
  {
   "cell_type": "code",
   "execution_count": 21,
   "metadata": {},
   "outputs": [
    {
     "name": "stdout",
     "output_type": "stream",
     "text": [
      "Lloyds list\n"
     ]
    }
   ],
   "source": [
    "# You can actually print out the second last item by asking for item -2.\n",
    "print(listOfBestLists[-2])"
   ]
  },
  {
   "cell_type": "code",
   "execution_count": 22,
   "metadata": {},
   "outputs": [
    {
     "name": "stdout",
     "output_type": "stream",
     "text": [
      "First Two Items are: ['NYT best-sellers list', 'Santas list']\n"
     ]
    }
   ],
   "source": [
    "# You know you can access a range with the colon:, this quite versatile as you can leave a number out to slice lists.\n",
    "first_two_items = listOfBestLists[:2]\n",
    "print('First Two Items are: {}'.format(first_two_items))"
   ]
  },
  {
   "cell_type": "code",
   "execution_count": 23,
   "metadata": {},
   "outputs": [
    {
     "name": "stdout",
     "output_type": "stream",
     "text": [
      "First Two Items are: ['Bucket list', 'Lloyds list', 'Listerine']\n"
     ]
    }
   ],
   "source": [
    "third_to_end = listOfBestLists[2:]\n",
    "print('First Two Items are: {}'.format(third_to_end))"
   ]
  },
  {
   "cell_type": "code",
   "execution_count": 24,
   "metadata": {},
   "outputs": [
    {
     "name": "stdout",
     "output_type": "stream",
     "text": [
      "NYT best-sellers list , Santas list\n"
     ]
    }
   ],
   "source": [
    "# You can declare several variables directly form lists in one line.\n",
    "item1, item2 = listOfBestLists[:2]\n",
    "print(item1,',', item2)"
   ]
  },
  {
   "cell_type": "code",
   "execution_count": 25,
   "metadata": {},
   "outputs": [
    {
     "name": "stdout",
     "output_type": "stream",
     "text": [
      "[1, 2, 3, 4, 5]\n"
     ]
    }
   ],
   "source": [
    "list_1 = [1, 2, 3, 4, 5, 6, 7, 8, 9]\n",
    "# Print out the first 5 items\n",
    "print(list_1[0:5])"
   ]
  },
  {
   "cell_type": "code",
   "execution_count": 26,
   "metadata": {},
   "outputs": [
    {
     "name": "stdout",
     "output_type": "stream",
     "text": [
      "[7, 8, 9]\n"
     ]
    }
   ],
   "source": [
    "# Print out the last 3 items\n",
    "last_index = len(list_1)\n",
    "print(list_1[last_index-3:last_index])"
   ]
  },
  {
   "cell_type": "code",
   "execution_count": 27,
   "metadata": {},
   "outputs": [
    {
     "name": "stdout",
     "output_type": "stream",
     "text": [
      "[3, 4, 5, 6]\n"
     ]
    }
   ],
   "source": [
    "# Print out items 3 to 6\n",
    "print(list_1[2:6])"
   ]
  },
  {
   "cell_type": "markdown",
   "metadata": {},
   "source": [
    "## All Set?\n",
    "Some code is missing, try fill it out to get it working again"
   ]
  },
  {
   "cell_type": "code",
   "execution_count": 28,
   "metadata": {},
   "outputs": [],
   "source": [
    "# Here is a list of stocks in my friends portfolio:\n",
    "friends_stock_list = ['F', 'AMD', 'GAW', 'TM17', 'DISH']"
   ]
  },
  {
   "cell_type": "code",
   "execution_count": 29,
   "metadata": {},
   "outputs": [],
   "source": [
    "# My friend added MSFT and AMZN stocks to his portfolio yesterday, make a list of those stocks.\n",
    "stocks_added_yesterday = ['MSFT', 'AMZN']"
   ]
  },
  {
   "cell_type": "code",
   "execution_count": 30,
   "metadata": {},
   "outputs": [],
   "source": [
    "# Combine both lists together to update his list oh current holdings.\n",
    "friends_stock_list = friends_stock_list + stocks_added_yesterday"
   ]
  },
  {
   "cell_type": "code",
   "execution_count": 31,
   "metadata": {},
   "outputs": [],
   "source": [
    "# He realises the list is incorrect, he sold Ford a sold long ago. correct the list by removing 'F'\n",
    "friends_stock_list.remove('F')"
   ]
  },
  {
   "cell_type": "code",
   "execution_count": 32,
   "metadata": {},
   "outputs": [],
   "source": [
    "# His sister also holds some stocks, here is the list of them:\n",
    "sisters_stocks_list = ['DIS', 'TM17', 'MMM', 'AMD']"
   ]
  },
  {
   "cell_type": "code",
   "execution_count": 33,
   "metadata": {},
   "outputs": [],
   "source": [
    "# We want to see what stocks they have in common (I know it's not many, imagine they contain 40+ each). \n",
    "# for each list create a corresponding set, and find their intersection.\n",
    "friends_stock_set = set(friends_stock_list)\n",
    "sisters_stocks_set = set(sisters_stocks_list)"
   ]
  },
  {
   "cell_type": "code",
   "execution_count": 34,
   "metadata": {},
   "outputs": [
    {
     "name": "stdout",
     "output_type": "stream",
     "text": [
      "Their common holdings are:  {'TM17', 'AMD'}\n"
     ]
    }
   ],
   "source": [
    "print('Their common holdings are: ', friends_stock_set.intersection(sisters_stocks_set))"
   ]
  },
  {
   "cell_type": "code",
   "execution_count": 35,
   "metadata": {},
   "outputs": [
    {
     "name": "stdout",
     "output_type": "stream",
     "text": [
      "Their total holdings are:  {'GAW', 'TM17', 'AMD', 'DIS', 'MMM', 'DISH', 'MSFT', 'AMZN'}\n"
     ]
    }
   ],
   "source": [
    "# Let's see a complete set of all their holdings.\n",
    "print('Their total holdings are: ', friends_stock_set.union(sisters_stocks_set))"
   ]
  },
  {
   "cell_type": "code",
   "execution_count": null,
   "metadata": {},
   "outputs": [],
   "source": []
  }
 ],
 "metadata": {
  "kernelspec": {
   "display_name": "Python 3 (ipykernel)",
   "language": "python",
   "name": "python3"
  },
  "language_info": {
   "codemirror_mode": {
    "name": "ipython",
    "version": 3
   },
   "file_extension": ".py",
   "mimetype": "text/x-python",
   "name": "python",
   "nbconvert_exporter": "python",
   "pygments_lexer": "ipython3",
   "version": "3.9.12"
  }
 },
 "nbformat": 4,
 "nbformat_minor": 4
}
