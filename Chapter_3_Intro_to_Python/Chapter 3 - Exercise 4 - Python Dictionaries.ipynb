{
 "cells": [
  {
   "cell_type": "markdown",
   "metadata": {},
   "source": [
    "# Exercise 4 - Python Dictionaries"
   ]
  },
  {
   "cell_type": "code",
   "execution_count": null,
   "metadata": {},
   "outputs": [],
   "source": []
  },
  {
   "cell_type": "code",
   "execution_count": null,
   "metadata": {},
   "outputs": [],
   "source": [
    "# A python Dictionary is a kind of lookup table. It can store a series of any kind of object which is accessed with a 'key'.\n",
    "dict1 = {} # This is how to create en empty dictionary.\n",
    "\n",
    "# Here we fill our Python dictionary which stores data about one person.\n",
    "dict1 = {\n",
    "    'Name': 'Max',\n",
    "    'Height': 1.9,\n",
    "    'Test Scores':[50, 62, 78, 47],\n",
    "    'Nationality':'German'\n",
    "}\n",
    "print(dict1)"
   ]
  },
  {
   "cell_type": "code",
   "execution_count": null,
   "metadata": {},
   "outputs": [],
   "source": [
    "# The first item is the 'Key', the item after the colon: is the infomation to be accessed with the key.\n",
    "dict1['Name'] # View the info behind item 'Name'"
   ]
  },
  {
   "cell_type": "code",
   "execution_count": null,
   "metadata": {},
   "outputs": [],
   "source": [
    "dict1['Height'] # View the info behind item 'Height'"
   ]
  },
  {
   "cell_type": "code",
   "execution_count": null,
   "metadata": {},
   "outputs": [],
   "source": [
    "# You can view all the keys in your dictionary with the .keys() function\n",
    "dict1.keys()"
   ]
  },
  {
   "cell_type": "code",
   "execution_count": null,
   "metadata": {},
   "outputs": [],
   "source": [
    "# You can add items to Dictionaries by stating them:\n",
    "dict1['Shoe Size'] = 7\n",
    "print(dict1)"
   ]
  },
  {
   "cell_type": "code",
   "execution_count": null,
   "metadata": {},
   "outputs": [],
   "source": [
    "# You can delete items with the del command as with all other variables in Python.\n",
    "del dict1['Height']\n",
    "print(dict1)"
   ]
  },
  {
   "cell_type": "markdown",
   "metadata": {},
   "source": [
    "# Exercise 4\n",
    "Dictionaries are quite a fundamental must-know object in Python, they are essentially look-up tables."
   ]
  },
  {
   "cell_type": "code",
   "execution_count": null,
   "metadata": {},
   "outputs": [],
   "source": [
    "# Use a loop to fill in a list of dictionaries with company data,\n",
    "# where each dictionary contains infomation for one stock.\n",
    "# Stock infomation is provided"
   ]
  },
  {
   "cell_type": "code",
   "execution_count": null,
   "metadata": {},
   "outputs": [],
   "source": [
    "# Once the data is stored in a list of dicts, use a loop and an if statement to filter out our stocks.\n",
    "# Have the loop create a new list of dictionaries of companies we have filtered."
   ]
  },
  {
   "cell_type": "code",
   "execution_count": null,
   "metadata": {},
   "outputs": [],
   "source": [
    "# Given data.\n",
    "Stocks = ['JKHY', 'FSTR', 'ETV', 'WAFD', 'RSG', 'HTGC']\n",
    "PriceEarningsRatios = [48.54, 3.29, 5.71, 9.18, 23.89, 14.02]\n",
    "Beta = [0.59, 1.67, 0.89, 0.99, 0.62, 1.51]"
   ]
  },
  {
   "cell_type": "code",
   "execution_count": null,
   "metadata": {},
   "outputs": [],
   "source": [
    "# Correct this loop to fill our list of dictionaries\n",
    "stockDictDicts = {}#Create empty dict we will fill with infomation\n",
    "for i, S in enumerate(Stocks): \n",
    "    stockDictDicts[S] =  {'PE':PriceEarningsRatios[i],\\\n",
    "                         'Beta':Beta[i]}"
   ]
  },
  {
   "cell_type": "code",
   "execution_count": null,
   "metadata": {},
   "outputs": [],
   "source": [
    "stockDictDicts # View out list of dictionaries with all data"
   ]
  },
  {
   "cell_type": "code",
   "execution_count": null,
   "metadata": {},
   "outputs": [],
   "source": [
    "# With infomation stored in this way we can see infomation about a single company:\n",
    "stockDictDicts['WAFD']"
   ]
  },
  {
   "cell_type": "code",
   "execution_count": null,
   "metadata": {},
   "outputs": [],
   "source": [
    "# And with a loop we can filter stocks by their internal information:\n",
    "filt_dict = [] # empty list to fill up\n",
    "for dict_i in stockDictDicts:\n",
    "    if(stockDictDicts[dict_i]['PE'] < 10):\n",
    "        filt_dict.append(dict_i)\n",
    "\n",
    "print(filt_dict)"
   ]
  },
  {
   "cell_type": "code",
   "execution_count": null,
   "metadata": {},
   "outputs": [],
   "source": []
  }
 ],
 "metadata": {
  "kernelspec": {
   "display_name": "Python 3 (ipykernel)",
   "language": "python",
   "name": "python3"
  },
  "language_info": {
   "codemirror_mode": {
    "name": "ipython",
    "version": 3
   },
   "file_extension": ".py",
   "mimetype": "text/x-python",
   "name": "python",
   "nbconvert_exporter": "python",
   "pygments_lexer": "ipython3",
   "version": "3.9.12"
  }
 },
 "nbformat": 4,
 "nbformat_minor": 4
}
